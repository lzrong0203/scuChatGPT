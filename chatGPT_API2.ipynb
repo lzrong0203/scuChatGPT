{
  "nbformat": 4,
  "nbformat_minor": 0,
  "metadata": {
    "colab": {
      "provenance": []
    },
    "kernelspec": {
      "name": "python3",
      "display_name": "Python 3"
    },
    "language_info": {
      "name": "python"
    }
  },
  "cells": [
    {
      "cell_type": "code",
      "source": [
        "# %pip install openai"
      ],
      "metadata": {
        "colab": {
          "base_uri": "https://localhost:8080/"
        },
        "collapsed": true,
        "id": "oJjiz-CFaBMG",
        "outputId": "aefbaef3-67a5-4ac4-82d6-7cbcc6c6a762"
      },
      "execution_count": null,
      "outputs": [
        {
          "output_type": "stream",
          "name": "stdout",
          "text": [
            "Collecting openai\n",
            "  Downloading openai-1.37.1-py3-none-any.whl.metadata (22 kB)\n",
            "Requirement already satisfied: anyio<5,>=3.5.0 in /usr/local/lib/python3.10/dist-packages (from openai) (3.7.1)\n",
            "Requirement already satisfied: distro<2,>=1.7.0 in /usr/lib/python3/dist-packages (from openai) (1.7.0)\n",
            "Collecting httpx<1,>=0.23.0 (from openai)\n",
            "  Downloading httpx-0.27.0-py3-none-any.whl.metadata (7.2 kB)\n",
            "Requirement already satisfied: pydantic<3,>=1.9.0 in /usr/local/lib/python3.10/dist-packages (from openai) (2.8.2)\n",
            "Requirement already satisfied: sniffio in /usr/local/lib/python3.10/dist-packages (from openai) (1.3.1)\n",
            "Requirement already satisfied: tqdm>4 in /usr/local/lib/python3.10/dist-packages (from openai) (4.66.4)\n",
            "Requirement already satisfied: typing-extensions<5,>=4.7 in /usr/local/lib/python3.10/dist-packages (from openai) (4.12.2)\n",
            "Requirement already satisfied: idna>=2.8 in /usr/local/lib/python3.10/dist-packages (from anyio<5,>=3.5.0->openai) (3.7)\n",
            "Requirement already satisfied: exceptiongroup in /usr/local/lib/python3.10/dist-packages (from anyio<5,>=3.5.0->openai) (1.2.2)\n",
            "Requirement already satisfied: certifi in /usr/local/lib/python3.10/dist-packages (from httpx<1,>=0.23.0->openai) (2024.7.4)\n",
            "Collecting httpcore==1.* (from httpx<1,>=0.23.0->openai)\n",
            "  Downloading httpcore-1.0.5-py3-none-any.whl.metadata (20 kB)\n",
            "Collecting h11<0.15,>=0.13 (from httpcore==1.*->httpx<1,>=0.23.0->openai)\n",
            "  Downloading h11-0.14.0-py3-none-any.whl.metadata (8.2 kB)\n",
            "Requirement already satisfied: annotated-types>=0.4.0 in /usr/local/lib/python3.10/dist-packages (from pydantic<3,>=1.9.0->openai) (0.7.0)\n",
            "Requirement already satisfied: pydantic-core==2.20.1 in /usr/local/lib/python3.10/dist-packages (from pydantic<3,>=1.9.0->openai) (2.20.1)\n",
            "Downloading openai-1.37.1-py3-none-any.whl (337 kB)\n",
            "\u001b[2K   \u001b[90m━━━━━━━━━━━━━━━━━━━━━━━━━━━━━━━━━━━━━━━━\u001b[0m \u001b[32m337.0/337.0 kB\u001b[0m \u001b[31m7.9 MB/s\u001b[0m eta \u001b[36m0:00:00\u001b[0m\n",
            "\u001b[?25hDownloading httpx-0.27.0-py3-none-any.whl (75 kB)\n",
            "\u001b[2K   \u001b[90m━━━━━━━━━━━━━━━━━━━━━━━━━━━━━━━━━━━━━━━━\u001b[0m \u001b[32m75.6/75.6 kB\u001b[0m \u001b[31m4.3 MB/s\u001b[0m eta \u001b[36m0:00:00\u001b[0m\n",
            "\u001b[?25hDownloading httpcore-1.0.5-py3-none-any.whl (77 kB)\n",
            "\u001b[2K   \u001b[90m━━━━━━━━━━━━━━━━━━━━━━━━━━━━━━━━━━━━━━━━\u001b[0m \u001b[32m77.9/77.9 kB\u001b[0m \u001b[31m4.9 MB/s\u001b[0m eta \u001b[36m0:00:00\u001b[0m\n",
            "\u001b[?25hDownloading h11-0.14.0-py3-none-any.whl (58 kB)\n",
            "\u001b[2K   \u001b[90m━━━━━━━━━━━━━━━━━━━━━━━━━━━━━━━━━━━━━━━━\u001b[0m \u001b[32m58.3/58.3 kB\u001b[0m \u001b[31m3.6 MB/s\u001b[0m eta \u001b[36m0:00:00\u001b[0m\n",
            "\u001b[?25hInstalling collected packages: h11, httpcore, httpx, openai\n",
            "Successfully installed h11-0.14.0 httpcore-1.0.5 httpx-0.27.0 openai-1.37.1\n"
          ]
        }
      ]
    },
    {
      "cell_type": "code",
      "execution_count": null,
      "metadata": {
        "id": "Pwz-5f5PY1zK",
        "colab": {
          "base_uri": "https://localhost:8080/"
        },
        "outputId": "312a344d-412a-4eb2-e1d0-34b27bde0e20"
      },
      "outputs": [
        {
          "output_type": "stream",
          "name": "stdout",
          "text": [
            "ChatCompletionMessage(content='行雲流水，Python編趣。\\n簡潔之美，碼中神逸。', role='assistant', function_call=None, tool_calls=None)\n"
          ]
        }
      ],
      "source": [
        "from openai import OpenAI\n",
        "from google.colab import userdata\n",
        "api_key = userdata.get('OPENAI_API_KEY')\n",
        "\n",
        "client = OpenAI(api_key=api_key)\n",
        "\n",
        "completion = client.chat.completions.create(\n",
        "  model=\"gpt-4o\",\n",
        "  messages=[\n",
        "    {\"role\": \"system\",\n",
        "     \"content\": \"你是一位如詩人李白般的寫詩高手，尤其是對於複雜的程式語言\"},\n",
        "    {\"role\": \"user\", \"content\": \"寫一首關於 Python 的四言絕句!\"}\n",
        "  ]\n",
        ")\n",
        "\n",
        "print(completion.choices[0].message)"
      ]
    },
    {
      "cell_type": "code",
      "source": [
        "system_prompt = \"你是一位如詩人李白般的寫詩高手，尤其是對於複雜的程式語言\"\n",
        "\n",
        "def chatWithGPT(prompt, system_prompt=system_prompt):\n",
        "  client = OpenAI(api_key=api_key)\n",
        "  completion = client.chat.completions.create(\n",
        "    model=\"gpt-4o\",\n",
        "    messages=[\n",
        "      {\"role\": \"system\", \"content\": system_prompt},\n",
        "      {\"role\": \"user\", \"content\": prompt}\n",
        "      ]\n",
        "  )\n",
        "  return completion.choices[0].message.content"
      ],
      "metadata": {
        "id": "G_1GHLiVaOHM"
      },
      "execution_count": null,
      "outputs": []
    },
    {
      "cell_type": "code",
      "source": [
        "print(chatWithGPT(\"來個關於Python的八言律詩吧\"))"
      ],
      "metadata": {
        "colab": {
          "base_uri": "https://localhost:8080/"
        },
        "id": "MdpOTNWIbx3d",
        "outputId": "66436953-10bc-4efa-e69a-23ca4ec32007"
      },
      "execution_count": null,
      "outputs": [
        {
          "output_type": "stream",
          "name": "stdout",
          "text": [
            "華啟屏中語言現，  \n",
            "蛇舞縱橫鷸心田。  \n",
            "函數妙轉萬千象，  \n",
            "循環細理世間玄。  \n",
            "\n",
            "數字可解千秋夢，  \n",
            "字串能描五彩篇。  \n",
            "乘風破浪尋真意，  \n",
            "一行代碼勝詩篇。\n"
          ]
        }
      ]
    },
    {
      "cell_type": "code",
      "source": [
        "client = OpenAI(api_key=api_key)\n",
        "\n",
        "class Agent:\n",
        "\n",
        "  def __init__(self, system=\"\"):\n",
        "    \"\"\"\n",
        "    Agent 初始化，建立系統的訊息\n",
        "    \"\"\"\n",
        "    self.system = system\n",
        "    self.messages = []\n",
        "    if self.system:\n",
        "      self.messages.append({\"role\": \"system\", \"content\": system})\n",
        "\n",
        "  def execute(self):\n",
        "    \"\"\"\n",
        "    建立 chatGPT的聊天，並回傳AI的回覆\n",
        "    \"\"\"\n",
        "    completion = client.chat.completions.create(\n",
        "        model=\"gpt-4o\",\n",
        "        messages=self.messages,\n",
        "        temperature=0)\n",
        "    return completion.choices[0].message.content\n",
        "\n",
        "  def __call__(self, message):\n",
        "    self.messages.append({\"role\": \"user\", \"content\": message})\n",
        "    result = self.execute()\n",
        "    self.messages.append({\"role\": \"assistant\", \"content\": result})\n",
        "    return result"
      ],
      "metadata": {
        "id": "NYKDhLhtlEb5"
      },
      "execution_count": null,
      "outputs": []
    },
    {
      "cell_type": "code",
      "source": [
        "system_prompt = \"你是一位如詩人李白般的寫詩高手，尤其是對於複雜的程式語言\"\n",
        "\n",
        "\n",
        "agent = Agent(system_prompt)\n",
        "agent(\"來個關於Python的八言律詩吧\")"
      ],
      "metadata": {
        "colab": {
          "base_uri": "https://localhost:8080/",
          "height": 71
        },
        "id": "STPVj50pp6ui",
        "outputId": "08f797d4-0929-4330-db90-42562d6e64d6"
      },
      "execution_count": null,
      "outputs": [
        {
          "output_type": "stream",
          "name": "stdout",
          "text": [
            "CALLLLL\n"
          ]
        },
        {
          "output_type": "execute_result",
          "data": {
            "text/plain": [
              "'雲端漫步Python行，  \\n數據如潮智者迎。  \\n簡潔明瞭無繁縛，  \\n靈活多變任我行。  \\n函數妙用千般巧，  \\n模塊豐盈萬象生。  \\n編程世界無窮境，  \\n一行一字盡詩情。'"
            ],
            "application/vnd.google.colaboratory.intrinsic+json": {
              "type": "string"
            }
          },
          "metadata": {},
          "execution_count": 28
        }
      ]
    },
    {
      "cell_type": "code",
      "source": [
        "agent(\"請說明這首詩的意境\")"
      ],
      "metadata": {
        "colab": {
          "base_uri": "https://localhost:8080/",
          "height": 197
        },
        "id": "jGyQF5o_u9Jf",
        "outputId": "78a21e77-a3c2-412a-f43d-66df2c772f3c"
      },
      "execution_count": null,
      "outputs": [
        {
          "output_type": "stream",
          "name": "stdout",
          "text": [
            "CALLLLL\n"
          ]
        },
        {
          "output_type": "execute_result",
          "data": {
            "text/plain": [
              "'這首詩描繪了Python程式語言的特點和魅力，並將其比喻為一種詩意的創作過程。\\n\\n**第一聯：**\\n\"雲端漫步Python行，  \\n數據如潮智者迎。\"\\n\\n這兩句描寫了Python在現代科技中的重要地位。Python如同在雲端漫步，輕盈而自由，適用於各種雲計算和大數據分析。數據如潮水般湧來，智者（程序員）用Python迎接這些挑戰。\\n\\n**第二聯：**\\n\"簡潔明瞭無繁縛，  \\n靈活多變任我行。\"\\n\\n這兩句強調了Python語言的簡潔和靈活。Python語法簡潔明瞭，沒有繁瑣的規範，讓程序員能夠自由地表達自己的想法，靈活應對各種需求。\\n\\n**第三聯：**\\n\"函數妙用千般巧，  \\n模塊豐盈萬象生。\"\\n\\n這兩句讚美了Python豐富的函數和模塊。Python的函數設計巧妙多變，模塊庫豐富多樣，能夠應對各種編程需求，讓程序員如同擁有無數工具，創造出萬千世界。\\n\\n**第四聯：**\\n\"編程世界無窮境，  \\n一行一字盡詩情。\"\\n\\n這兩句總結了Python編程的無限可能性。編程的世界無窮無盡，每一行代碼、每一個字母都蘊含著詩意和創造力，讓程序員在編程中體驗到如同寫詩般的美妙感受。\\n\\n整首詩通過對Python語言特點的描寫，表達了對其簡潔、靈活和強大功能的讚美，並將編程過程比喻為一種充滿詩意的創作，展現了程序員在編程中的樂趣和成就感。'"
            ],
            "application/vnd.google.colaboratory.intrinsic+json": {
              "type": "string"
            }
          },
          "metadata": {},
          "execution_count": 29
        }
      ]
    },
    {
      "cell_type": "code",
      "source": [
        "agent.messages"
      ],
      "metadata": {
        "colab": {
          "base_uri": "https://localhost:8080/"
        },
        "id": "OqQ63KrjvBiH",
        "outputId": "047d39fb-c0a7-4e35-b416-2f818d59c65c"
      },
      "execution_count": null,
      "outputs": [
        {
          "output_type": "execute_result",
          "data": {
            "text/plain": [
              "[{'role': 'system', 'content': '你是一位如詩人李白般的寫詩高手，尤其是對於複雜的程式語言'},\n",
              " {'role': 'user', 'content': '來個關於Python的八言律詩吧'},\n",
              " {'role': 'assistant',\n",
              "  'content': '雲端漫步Python行，  \\n數據如潮智者迎。  \\n簡潔明瞭無繁縛，  \\n靈活多變任我行。  \\n函數妙用千般巧，  \\n模塊豐盈萬象生。  \\n編程世界無窮境，  \\n一行一字盡詩情。'},\n",
              " {'role': 'user', 'content': '請說明這首詩的意境'},\n",
              " {'role': 'assistant',\n",
              "  'content': '這首詩描繪了Python程式語言的特點和魅力，並將其比喻為一種詩意的創作過程。\\n\\n**第一聯：**\\n\"雲端漫步Python行，  \\n數據如潮智者迎。\"\\n\\n這兩句描寫了Python在現代科技中的重要地位。Python如同在雲端漫步，輕盈而自由，適用於各種雲計算和大數據分析。數據如潮水般湧來，智者（程序員）用Python迎接這些挑戰。\\n\\n**第二聯：**\\n\"簡潔明瞭無繁縛，  \\n靈活多變任我行。\"\\n\\n這兩句強調了Python語言的簡潔和靈活。Python語法簡潔明瞭，沒有繁瑣的規範，讓程序員能夠自由地表達自己的想法，靈活應對各種需求。\\n\\n**第三聯：**\\n\"函數妙用千般巧，  \\n模塊豐盈萬象生。\"\\n\\n這兩句讚美了Python豐富的函數和模塊。Python的函數設計巧妙多變，模塊庫豐富多樣，能夠應對各種編程需求，讓程序員如同擁有無數工具，創造出萬千世界。\\n\\n**第四聯：**\\n\"編程世界無窮境，  \\n一行一字盡詩情。\"\\n\\n這兩句總結了Python編程的無限可能性。編程的世界無窮無盡，每一行代碼、每一個字母都蘊含著詩意和創造力，讓程序員在編程中體驗到如同寫詩般的美妙感受。\\n\\n整首詩通過對Python語言特點的描寫，表達了對其簡潔、靈活和強大功能的讚美，並將編程過程比喻為一種充滿詩意的創作，展現了程序員在編程中的樂趣和成就感。'}]"
            ]
          },
          "metadata": {},
          "execution_count": 30
        }
      ]
    },
    {
      "cell_type": "code",
      "source": [],
      "metadata": {
        "id": "IfTbi5sCwIWo"
      },
      "execution_count": null,
      "outputs": []
    }
  ]
}